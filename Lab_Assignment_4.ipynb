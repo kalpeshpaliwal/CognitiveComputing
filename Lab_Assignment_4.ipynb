{
 "cells": [
  {
   "cell_type": "code",
   "execution_count": 4,
   "id": "e0d81076-ef64-4d27-80a6-7605ee92f843",
   "metadata": {},
   "outputs": [],
   "source": [
    "import pandas as pd\n",
    "import numpy as np"
   ]
  },
  {
   "cell_type": "code",
   "execution_count": 6,
   "id": "49abfafa-9bdb-4bb3-9c8b-bd184d017928",
   "metadata": {},
   "outputs": [
    {
     "name": "stdout",
     "output_type": "stream",
     "text": [
      "Original NumPy 1D-array                  :  [10 20 30 40 50]\n",
      "Adding 2 to all the elements             :  [12 22 32 42 52]\n",
      "Multiplying 3 with all the elements      :  [ 30  60  90 120 150]\n",
      "Dividing every element by 2              :  [ 5. 10. 15. 20. 25.]\n"
     ]
    }
   ],
   "source": [
    "\"\"\"\n",
    "Question 1:\n",
    "Write a program to create a NumPy 1D-array with 5 elements and perform basic\n",
    "operations like:\n",
    "a) Addition of 2 in all the element\n",
    "b) Multiply 3 with all the elements\n",
    "c) Divide every element by 2\n",
    "\"\"\"\n",
    "\n",
    "numpy_array = np.array([10,20,30,40,50])\n",
    "numpy_array_add = numpy_array+2\n",
    "numpy_array_mul = numpy_array*3\n",
    "numpy_array_div = numpy_array/2\n",
    "\n",
    "print(\"Original NumPy 1D-array                  : \",numpy_array)\n",
    "print(\"Adding 2 to all the elements             : \",numpy_array_add)\n",
    "print(\"Multiplying 3 with all the elements      : \",numpy_array_mul)\n",
    "print(\"Dividing every element by 2              : \",numpy_array_div)"
   ]
  },
  {
   "cell_type": "code",
   "execution_count": 60,
   "id": "4e293eb9-51c9-48b7-81a6-82de3cc72e7d",
   "metadata": {},
   "outputs": [
    {
     "name": "stdout",
     "output_type": "stream",
     "text": [
      "Original NumPy array    :  [1 2 3 6 4 5]\n",
      "Reversing the array     :  [5 4 6 3 2 1]\n",
      "\n",
      "Array x: [1 2 3 4 5 1 2 1 1 1]\n",
      "Most frequent value in x: 1, Indices: [0 5 7 8 9]\n",
      "\n",
      "Array y: [1 1 1 2 3 4 2 4 3 3]\n",
      "Most frequent values in y: [1 3]\n",
      "Value: 1, Indices: [0 1 2]\n",
      "Value: 3, Indices: [4 8 9]\n"
     ]
    }
   ],
   "source": [
    "\"\"\"\n",
    "Question 2:\n",
    "Questions on Basic NumPy Array:\n",
    "    a) Reverse the NumPy array: arr = np.array([1, 2, 3, 6, 4, 5])\n",
    "    b) Find the most frequent value and their indice(s) in the following arrays:\n",
    "        i. x = np.array([1,2,3,4,5,1,2,1,1,1])\n",
    "        ii. y = np.array([1, 1, 1, 2, 3, 4, 2, 4, 3, 3, ])\n",
    "\"\"\"\n",
    "\n",
    "arr=np.array([1,2,3,6,4,5])\n",
    "print(\"Original NumPy array    : \",arr)\n",
    "print(\"Reversing the array     : \",arr[::-1])\n",
    "\n",
    "x = np.array([1, 2, 3, 4, 5, 1, 2, 1, 1, 1])\n",
    "counts_x = np.bincount(x)\n",
    "most_frequent_value_x = np.argmax(counts_x)\n",
    "indices_x = np.where(x == most_frequent_value_x)[0]\n",
    "\n",
    "print(\"\\nArray x:\", x)\n",
    "print(f\"Most frequent value in x: {most_frequent_value_x}, Indices: {indices_x}\")\n",
    "\n",
    "y = np.array([1, 1, 1, 2, 3, 4, 2, 4, 3, 3])\n",
    "values, counts_y = np.unique(y, return_counts=True)\n",
    "max_count = np.max(counts_y)  \n",
    "most_frequent_values_y = values[counts_y == max_count]  \n",
    "\n",
    "print(\"\\nArray y:\", y)\n",
    "print(\"Most frequent values in y:\", most_frequent_values_y)\n",
    "for value in most_frequent_values_y:\n",
    "    indices_y = np.where(y == value)[0]\n",
    "    print(f\"Value: {value}, Indices: {indices_y}\")\n"
   ]
  },
  {
   "cell_type": "code",
   "execution_count": 20,
   "id": "758bfe78-fb87-4ecf-92b1-3762c0c544a8",
   "metadata": {},
   "outputs": [
    {
     "name": "stdout",
     "output_type": "stream",
     "text": [
      "Accessing 1st row, 2nd column  :  20\n",
      "Accessing 3rd row, 1st column  :  70\n"
     ]
    }
   ],
   "source": [
    "\"\"\"\n",
    "Question 3:\n",
    "For the given 2-D array arr=np.array([10, 20, 30], [40, 50, 60], [70, 80, 90]), access\n",
    "elements using row and column indices as follows:\n",
    "a) Access 1st row, 2nd column\n",
    "b) Access 3rd row, 1st column\n",
    "\"\"\"\n",
    "\n",
    "arr=np.array([[10, 20, 30], [40, 50, 60], [70, 80, 90]])\n",
    "print(\"Accessing 1st row, 2nd column  : \",arr[0][1])  # can also use arr[0,1] \n",
    "print(\"Accessing 3rd row, 1st column  : \",arr[2][0])  # can also use arr[2,0]"
   ]
  },
  {
   "cell_type": "code",
   "execution_count": 52,
   "id": "322cca10-686a-4314-8b74-50ac33ffd1ab",
   "metadata": {},
   "outputs": [
    {
     "name": "stdout",
     "output_type": "stream",
     "text": [
      "Create 1-D NumPy array named Karan             :  [ 10.    13.75  17.5   21.25  25.    28.75  32.5   36.25  40.    43.75\n",
      "  47.5   51.25  55.    58.75  62.5   66.25  70.    73.75  77.5   81.25\n",
      "  85.    88.75  92.5   96.25 100.  ]\n",
      "\n",
      "Dimension of the array                         :  1\n",
      "Shape of the array                             :  (25,)\n",
      "Total elements in the array                    :  25\n",
      "Data type of each element                      :  float64\n",
      "Total number of bytes consumed by the array    :  200\n",
      "\n",
      "Array after using reshape(5,5)                 :\n",
      " [[ 10.    13.75  17.5   21.25  25.  ]\n",
      " [ 28.75  32.5   36.25  40.    43.75]\n",
      " [ 47.5   51.25  55.    58.75  62.5 ]\n",
      " [ 66.25  70.    73.75  77.5   81.25]\n",
      " [ 85.    88.75  92.5   96.25 100.  ]]\n",
      "\n",
      "Transpose of the array using reshape()         :\n",
      " [[ 10.    28.75  47.5   66.25  85.  ]\n",
      " [ 13.75  32.5   51.25  70.    88.75]\n",
      " [ 17.5   36.25  55.    73.75  92.5 ]\n",
      " [ 21.25  40.    58.75  77.5   96.25]\n",
      " [ 25.    43.75  62.5   81.25 100.  ]]\n"
     ]
    }
   ],
   "source": [
    "\"\"\"\n",
    "Question 4:\n",
    "Write program to create an 1-D NumPy array named <<Your Name>> with evenly\n",
    "spaced 25 numbers from 10 to 100 using linspace(). Print the dimensions of the array,\n",
    "shape, total elements, the data type of each element and total number of bytes consumed\n",
    "by the array. Find the transpose of this array using reshape() attribute. Can we do the same\n",
    "with T attribute?\n",
    "\"\"\"\n",
    "\n",
    "Kalpesh = np.linspace(10,100,25)\n",
    "print(\"Create 1-D NumPy array named Kalpesh             : \", Kalpesh)\n",
    "\n",
    "print(\"\\nDimension of the array                         : \", Kalpesh.ndim)\n",
    "print(\"Shape of the array                             : \", Kalpesh.shape)\n",
    "print(\"Total elements in the array                    : \", Kalpesh.size)\n",
    "print(\"Data type of each element                      : \", Kalpesh.dtype)\n",
    "print(\"Total number of bytes consumed by the array    : \", Kalpesh.itemsize*Karan.size)      # or you can directly use Karan.nbytes\n",
    "\n",
    "reshaped_kalpesh = Kalpesh.reshape(5,5)\n",
    "print(\"\\nArray after using reshape(5,5)                 :\\n\", reshaped_kalpesh)\n",
    "print(\"\\nTranspose of the array using reshape()         :\\n\", reshaped_kalpesh.T)"
   ]
  },
  {
   "cell_type": "code",
   "execution_count": 54,
   "id": "4abbc9c4-c71b-4243-a99d-3b8a4176315e",
   "metadata": {},
   "outputs": [
    {
     "name": "stdout",
     "output_type": "stream",
     "text": [
      "Created 2-D array                      :\n",
      " [[10 20 30 40]\n",
      " [50 60 70 80]\n",
      " [90 15 20 35]]\n",
      "Mean of the created array              :  43.333333333333336\n",
      "Median of the created array            :  37.5\n",
      "Maximum of the created array           :  90\n",
      "Minimum of the created array           :  10\n",
      "Unique elements of the created array   :  [10 15 20 30 35 40 50 60 70 80 90]\n",
      "\n",
      "Reshaped array                         :\n",
      " [[10 20 30]\n",
      " [40 50 60]\n",
      " [70 80 90]\n",
      " [15 20 35]]\n",
      "\n",
      "Resized array                          :\n",
      " [[10 20 30]\n",
      " [40 50 60]]\n"
     ]
    }
   ],
   "source": [
    "\"\"\"\n",
    "Question 5:\n",
    "Create a 2-D Array of three rows and four columns, named ucs420_<your_name>>\n",
    "with following values – 10, 20, 30, 40, 50, 60, 70, 80, 90, 15, 20, 35. Compute the mean,\n",
    "median, max, min, unique elements. Reshape the array to four rows and three columns and\n",
    "name it as reshaped_ ucs420_<your_name>>. Resize the array to two rows and three\n",
    "columns and name it as resized_ ucs420_<your_name>>.\n",
    "\"\"\"\n",
    "\n",
    "ucs420_Kalpesh = np.array([[10, 20, 30, 40],[50,60,70,80],[90,15,20,35]])\n",
    "print(\"Created 2-D array                      :\\n\", ucs420_Kalpesh)\n",
    "\n",
    "print(\"Mean of the created array              : \", np.mean(ucs420_Kalpesh))\n",
    "print(\"Median of the created array            : \", np.median(ucs420_Kalpesh))\n",
    "print(\"Maximum of the created array           : \", np.max(ucs420_Kalpesh))\n",
    "print(\"Minimum of the created array           : \", np.min(ucs420_Kalpesh))\n",
    "print(\"Unique elements of the created array   : \", np.unique(ucs420_Kalpesh))\n",
    "\n",
    "reshaped_ucs420_Kalpesh = ucs420_Kalpesh.reshape(4,3)\n",
    "print(\"\\nReshaped array                         :\\n\", reshaped_ucs420_Kalpesh)\n",
    "\n",
    "resized_ucs420_Kalpesh = np.resize(ucs420_Kalpesh,(2,3))\n",
    "print(\"\\nResized array                          :\\n\", resized_ucs420_Kalpesh)"
   ]
  },
  {
   "cell_type": "code",
   "execution_count": null,
   "id": "ce7611c3-edba-4edb-8be1-8bd77b6097f5",
   "metadata": {},
   "outputs": [],
   "source": []
  }
 ],
 "metadata": {
  "kernelspec": {
   "display_name": "Python [conda env:base] *",
   "language": "python",
   "name": "conda-base-py"
  },
  "language_info": {
   "codemirror_mode": {
    "name": "ipython",
    "version": 3
   },
   "file_extension": ".py",
   "mimetype": "text/x-python",
   "name": "python",
   "nbconvert_exporter": "python",
   "pygments_lexer": "ipython3",
   "version": "3.12.7"
  }
 },
 "nbformat": 4,
 "nbformat_minor": 5
}
