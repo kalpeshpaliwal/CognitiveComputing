{
 "cells": [
  {
   "cell_type": "code",
   "execution_count": 1,
   "id": "a57f92f7-5e99-45b2-8ae4-1ebfab102dfd",
   "metadata": {},
   "outputs": [
    {
     "name": "stdout",
     "output_type": "stream",
     "text": [
      "kalpesh paliwal\n",
      "kalpesh paliwal\n",
      "kalpesh paliwal\n"
     ]
    }
   ],
   "source": [
    "#Assingment 1.1: WAP to print your name three time\n",
    "for i in range(1,4):\n",
    "    print(\"kalpesh paliwal\")"
   ]
  },
  {
   "cell_type": "code",
   "execution_count": 3,
   "id": "781663b0-b530-46f9-a380-662e06d059a0",
   "metadata": {},
   "outputs": [
    {
     "name": "stdin",
     "output_type": "stream",
     "text": [
      "enter the first number  55\n",
      "enter the second number  55\n",
      "enter the third number  55\n"
     ]
    },
    {
     "name": "stdout",
     "output_type": "stream",
     "text": [
      "sum is  165\n"
     ]
    }
   ],
   "source": [
    "#Assingment 2.1: WAP to add three numbers and print the result.\n",
    "a=int(input(\"enter the first number \"))\n",
    "b=int(input(\"enter the second number \"))\n",
    "c=int(input(\"enter the third number \"))\n",
    "\n",
    "print (\"sum is \",a+b+c)"
   ]
  },
  {
   "cell_type": "code",
   "execution_count": 7,
   "id": "ee7396f8-93dc-4e81-8c1a-6ee281749fd6",
   "metadata": {},
   "outputs": [
    {
     "name": "stdin",
     "output_type": "stream",
     "text": [
      "enter the first string  kalpesh\n",
      "enter the second string  paliwal\n",
      "enter the third string  kp\n"
     ]
    },
    {
     "name": "stdout",
     "output_type": "stream",
     "text": [
      "kalpeshpaliwalkp\n"
     ]
    }
   ],
   "source": [
    "#Assingment 2.2: WAP to concatinate three strings and print the result.\n",
    "a=input(\"enter the first string \")\n",
    "b=input(\"enter the second string \")\n",
    "c=input(\"enter the third string \")\n",
    "print(a+b+c)\n"
   ]
  },
  {
   "cell_type": "code",
   "execution_count": 9,
   "id": "256642bd-8b64-4d1d-933b-f8d4c9f5216b",
   "metadata": {},
   "outputs": [
    {
     "name": "stdout",
     "output_type": "stream",
     "text": [
      "7 x  1  =  7\n",
      "7 x  2  =  14\n",
      "7 x  3  =  21\n",
      "7 x  4  =  28\n",
      "7 x  5  =  35\n",
      "7 x  6  =  42\n",
      "7 x  7  =  49\n",
      "7 x  8  =  56\n",
      "7 x  9  =  63\n",
      "7 x  10  =  70\n",
      "9 x  1  =  9\n",
      "9 x  2  =  18\n",
      "9 x  3  =  27\n",
      "9 x  4  =  36\n",
      "9 x  5  =  45\n",
      "9 x  6  =  54\n",
      "9 x  7  =  63\n",
      "9 x  8  =  72\n",
      "9 x  9  =  81\n",
      "9 x  10  =  90\n"
     ]
    }
   ],
   "source": [
    "#Assingment 4.1: WAP to print the table of 7, 9.\n",
    "for i in range(1,11):\n",
    "    print(\"7 x \" ,i,\" = \" ,i*7)\n",
    "\n",
    "for i in range(1,11):\n",
    "    print(\"9 x \" ,i,\" = \" ,i*9)"
   ]
  },
  {
   "cell_type": "code",
   "execution_count": 11,
   "id": "c99d13d0-0ae7-4085-8b6a-e3f19404ad85",
   "metadata": {},
   "outputs": [
    {
     "name": "stdin",
     "output_type": "stream",
     "text": [
      "enter the number for table 5\n"
     ]
    },
    {
     "name": "stdout",
     "output_type": "stream",
     "text": [
      "5  x  1  =  5\n",
      "5  x  2  =  10\n",
      "5  x  3  =  15\n",
      "5  x  4  =  20\n",
      "5  x  5  =  25\n",
      "5  x  6  =  30\n",
      "5  x  7  =  35\n",
      "5  x  8  =  40\n",
      "5  x  9  =  45\n",
      "5  x  10  =  50\n"
     ]
    }
   ],
   "source": [
    "#Assingment 4.2: WAP to print the table of n and n is given by user.\n",
    "n=int(input(\"enter the number for table\" ))\n",
    "for i in range(1,11):\n",
    "    print(n,\" x \" ,i,\" = \" ,i*n)"
   ]
  },
  {
   "cell_type": "code",
   "execution_count": 13,
   "id": "b55e0a98-67ec-4124-8d61-aa18b738fdeb",
   "metadata": {},
   "outputs": [
    {
     "name": "stdin",
     "output_type": "stream",
     "text": [
      "enter the number  50\n"
     ]
    },
    {
     "name": "stdout",
     "output_type": "stream",
     "text": [
      "sum is  1275\n"
     ]
    }
   ],
   "source": [
    "#Assingment 4.3: WAP to add all the numbers from 1 to n and n is given by user.\n",
    "n=int(input(\"enter the number \" ))\n",
    "sum=0\n",
    "for i in range(1,n+1):\n",
    "    sum=sum+i\n",
    "print(\"sum is \" ,sum)"
   ]
  },
  {
   "cell_type": "code",
   "execution_count": 17,
   "id": "9fa46263-0783-4a62-8458-07be438a975e",
   "metadata": {},
   "outputs": [
    {
     "name": "stdin",
     "output_type": "stream",
     "text": [
      "enter the first number  55\n",
      "enter the second number  66\n",
      "enter the third number  99\n"
     ]
    },
    {
     "name": "stdout",
     "output_type": "stream",
     "text": [
      "Maximum number is  99\n"
     ]
    }
   ],
   "source": [
    "#Assingment 5.1: WAP to find max amoung three numbers and input from user. [Try max() function]\n",
    "a=int(input(\"enter the first number \"))\n",
    "b=int(input(\"enter the second number \"))\n",
    "c=int(input(\"enter the third number \"))\n",
    "\n",
    "d=max(a,b,c)\n",
    "print(\"Maximum number is \",d)"
   ]
  },
  {
   "cell_type": "code",
   "execution_count": 42,
   "id": "151c6867-f704-4b9e-bdba-40772212bbbe",
   "metadata": {},
   "outputs": [
    {
     "name": "stdin",
     "output_type": "stream",
     "text": [
      "enter the number  126\n"
     ]
    },
    {
     "name": "stdout",
     "output_type": "stream",
     "text": [
      "sum for  63  is  63\n",
      "sum for  126  is  189\n",
      "sum is  189\n"
     ]
    }
   ],
   "source": [
    "#Assingment 5.2: WAP to add all numbers divisible by 7 and 9 from 1 to n and n is given by the user.\n",
    "n=int(input(\"enter the number \" ))\n",
    "sum=0\n",
    "for i in range(1,n+1):\n",
    "    if i%7==0 and i%9==0 :\n",
    "        sum=sum+i\n",
    "        print(\"sum for \",i,\" is \",sum)\n",
    "\n",
    "print(\"sum is \",sum)\n"
   ]
  },
  {
   "cell_type": "code",
   "execution_count": 66,
   "id": "db964b8c-5b8c-4ce3-9477-a09da8cbb11e",
   "metadata": {},
   "outputs": [
    {
     "name": "stdin",
     "output_type": "stream",
     "text": [
      "enter the number  10\n"
     ]
    },
    {
     "name": "stdout",
     "output_type": "stream",
     "text": [
      "sum for i =   2  is  2\n",
      "sum for i =   3  is  5\n",
      "sum for i =   5  is  10\n",
      "sum for i =   7  is  17\n",
      "sum is  17\n"
     ]
    }
   ],
   "source": [
    "#Assingment 5.3: WAP to add all prime numbers from 1 to n and n is given by the user.\n",
    "n=int(input(\"enter the number \" ))\n",
    "sum=0\n",
    "\n",
    "for i in range(2,n+1):\n",
    "    flag=0\n",
    "    for j in range(2,i//2+1):\n",
    "        if i%j==0:\n",
    "            flag=1\n",
    "            break\n",
    "            \n",
    "            \n",
    "    if flag==0:\n",
    "        sum=sum+i\n",
    "        print(\"sum for i =  \",i,\" is \" ,sum)\n",
    "\n",
    "print(\"sum is \" ,sum)\n",
    "            \n",
    "            \n",
    "    "
   ]
  },
  {
   "cell_type": "code",
   "execution_count": 72,
   "id": "38776388-6658-4380-a253-6ed6448e1ef5",
   "metadata": {},
   "outputs": [
    {
     "name": "stdin",
     "output_type": "stream",
     "text": [
      "enter the number  10\n"
     ]
    },
    {
     "name": "stdout",
     "output_type": "stream",
     "text": [
      "sum for i= 1  is  1\n",
      "sum for i= 3  is  4\n",
      "sum for i= 5  is  9\n",
      "sum for i= 7  is  16\n",
      "sum for i= 9  is  25\n",
      "sum of odd number upto  10  is  25\n"
     ]
    }
   ],
   "source": [
    "#Assingment 6.1: WAP using function that add all odd numbers from 1 to n, n is given by the user.\n",
    "n=int(input(\"enter the number \" ))\n",
    "\n",
    "def add(a):\n",
    "    sum=0\n",
    "    for i in range(1,a+1):\n",
    "        if i%2!=0:\n",
    "            sum=sum+i\n",
    "            print (\"sum for i=\",i,\" is \" ,sum)\n",
    "    return sum\n",
    "\n",
    "print(\"sum of odd number upto \",n,\" is \",add(n))"
   ]
  },
  {
   "cell_type": "code",
   "execution_count": 98,
   "id": "d82c1bbe-9193-452f-aada-ce37596b699c",
   "metadata": {},
   "outputs": [
    {
     "name": "stdin",
     "output_type": "stream",
     "text": [
      "enter the number  10\n"
     ]
    },
    {
     "name": "stdout",
     "output_type": "stream",
     "text": [
      "sum for i =   2  is  2\n",
      "sum for i =   3  is  5\n",
      "sum for i =   5  is  10\n",
      "sum for i =   7  is  17\n",
      "sum is  17\n"
     ]
    }
   ],
   "source": [
    "#Assingment 6.2: WAP using function that add all prime numbers from 1 to n, n given by the user.\n",
    "n=int(input(\"enter the number \" ))\n",
    "def add(a):\n",
    "    sum=0\n",
    "    for i in range(2,a+1):\n",
    "        flag=0\n",
    "        for j in range(2,i//2+1):\n",
    "            if i%j==0:\n",
    "                flag=1\n",
    "                break   \n",
    "        if flag==0:\n",
    "            sum=sum+i\n",
    "            print(\"sum for i =  \",i,\" is \" ,sum)\n",
    "    return sum\n",
    "print(\"sum is \" ,add(n))"
   ]
  }
 ],
 "metadata": {
  "kernelspec": {
   "display_name": "Python [conda env:base] *",
   "language": "python",
   "name": "conda-base-py"
  },
  "language_info": {
   "codemirror_mode": {
    "name": "ipython",
    "version": 3
   },
   "file_extension": ".py",
   "mimetype": "text/x-python",
   "name": "python",
   "nbconvert_exporter": "python",
   "pygments_lexer": "ipython3",
   "version": "3.12.7"
  }
 },
 "nbformat": 4,
 "nbformat_minor": 5
}
